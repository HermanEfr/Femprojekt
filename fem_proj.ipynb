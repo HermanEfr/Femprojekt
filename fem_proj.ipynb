{
 "cells": [
  {
   "cell_type": "code",
   "execution_count": null,
   "metadata": {},
   "outputs": [],
   "source": [
    "import calfem.geometry as cfg\n",
    "import calfem.mesh as cfm\n",
    "import calfem.vis_mpl as cfv\n",
    "import calfem.utils as cfu\n",
    "import calfem.core as cfc\n",
    "import numpy as np\n",
    "\n",
    "import matplotlib as mpl"
   ]
  },
  {
   "cell_type": "markdown",
   "metadata": {},
   "source": [
    "Parameters"
   ]
  },
  {
   "cell_type": "code",
   "execution_count": null,
   "metadata": {},
   "outputs": [],
   "source": [
    "E = 5                   #Young's modulus, E [GPa]\n",
    "v = 0.36                #Poisson's ratio, ν [-]\n",
    "alpha = 0.00006         #Expansion coefficient, α [1/K]\n",
    "p = 540                 #Density, ρ [kg/m3]\n",
    "cp = 3600               #Specific heat, cp [J/kg-K]\n",
    "k = 80                  #Thermal conductivity, k [W/m-K]\n",
    "t = 1600\n",
    "D = k*np.eye(2)\n",
    "\n",
    "a_c = 120 # W/m2K\n",
    "T_in = 277 #Kelvin\n",
    "T_out = 285 #Kelvin\n",
    "T_inf = 293 #Kelvin"
   ]
  },
  {
   "cell_type": "code",
   "execution_count": null,
   "metadata": {},
   "outputs": [],
   "source": [
    "g = cfg.Geometry() #Create geometry"
   ]
  },
  {
   "cell_type": "code",
   "execution_count": null,
   "metadata": {},
   "outputs": [],
   "source": [
    "ZERO_CONVECTION = 10\n",
    "CONST_HEAT = 20\n",
    "\n",
    "g.point([0.0, 0.0]) # point 0\n",
    "g.point([0.0, 200.0]) # point 1\n",
    "g.point([400.0, 200.0]) # point 2\n",
    "g.point([300.0, 0.0]) # point 3\n",
    "\n",
    "g.point([0, 125]) # point 4\n",
    "g.point([0, 100]) # center circle 1; point 5\n",
    "g.point([25, 100])# point 6\n",
    "g.point([0, 75]) # point 7\n",
    "\n",
    "g.point([87.5, 125]) # point 8\n",
    "g.point([87.5, 100]) # center circle 2; point 9\n",
    "g.point([112.5, 100]) # point 10\n",
    "g.point([87.5, 75]) # point 11\n",
    "g.point([62.5, 100]) # point 12\n",
    "\n",
    "g.point([175, 125]) # point 13\n",
    "g.point([175, 100]) # center circle 3; point 14\n",
    "g.point([200, 100]) #  point 15\n",
    "g.point([175, 75]) # point 16\n",
    "g.point([150, 100]) # point 17\n",
    "\n",
    "g.point([262.5, 125]) # point 18\n",
    "g.point([262.5, 100]) # center circle 3; point 19\n",
    "g.point([287.5, 100]) #  point 20\n",
    "g.point([262.5, 75]) # point 21\n",
    "g.point([237.5, 100]) # point 22\n",
    "\n",
    "\n",
    "g.spline([4, 1], marker=ZERO_CONVECTION)\n",
    "g.spline([1, 2], marker=ZERO_CONVECTION)\n",
    "g.spline([2, 3], marker=ZERO_CONVECTION)\n",
    "g.spline([3, 0], marker=ZERO_CONVECTION)\n",
    "g.spline([0, 7], marker=ZERO_CONVECTION)\n",
    "\n",
    "#circle 1\n",
    "g.circle([4, 5, 6], marker=CONST_HEAT) \n",
    "g.circle([6, 5, 7], marker=CONST_HEAT)\n",
    "\n",
    "#circle 2\n",
    "g.circle([8, 9, 10], marker=CONST_HEAT) \n",
    "g.circle([10, 9, 11], marker=CONST_HEAT)\n",
    "g.circle([11, 9, 12], marker=CONST_HEAT) \n",
    "g.circle([12, 9, 8], marker=CONST_HEAT)\n",
    "\n",
    "#circle 3\n",
    "g.circle([13, 14, 15], marker=CONST_HEAT) \n",
    "g.circle([15, 14, 16], marker=CONST_HEAT)\n",
    "g.circle([16, 14, 17], marker=CONST_HEAT) \n",
    "g.circle([17, 14, 13], marker=CONST_HEAT)\n",
    "\n",
    "#circle 4\n",
    "g.circle([18, 19, 20], marker=CONST_HEAT) \n",
    "g.circle([20, 19, 21], marker=CONST_HEAT)\n",
    "g.circle([21, 19, 22], marker=CONST_HEAT) \n",
    "g.circle([22, 19, 18], marker=CONST_HEAT)\n",
    "\n",
    "\n",
    "g.surface([0, 1, 2, 3, 4, 6, 5], ([7, 8, 9,10], [11,12,13,14], [15,16,17,18]))\n",
    "cfv.draw_geometry(g)\n",
    "cfv.show_and_wait()"
   ]
  },
  {
   "cell_type": "code",
   "execution_count": null,
   "metadata": {},
   "outputs": [],
   "source": [
    "mesh = cfm.GmshMesh(g)\n",
    "\n",
    "mesh.el_type = 2         # Element type is triangle\n",
    "mesh.dofs_per_node = 1     # Degrees of freedom per node\n",
    "mesh.el_size_factor = 10 # Element size Factor\n",
    "\n",
    "coords, edof, dofs, bdofs, elementmarkers = mesh.create()\n",
    "\n",
    "cfv.figure()\n",
    "cfv.drawMesh(\n",
    "    coords=coords,\n",
    "    edof=edof,\n",
    "    dofs_per_node=mesh.dofsPerNode,\n",
    "    el_type=mesh.elType,\n",
    "    filled=True,\n",
    "    title=\"Example 01\"\n",
    "        )\n",
    "cfv.show()"
   ]
  },
  {
   "cell_type": "code",
   "execution_count": null,
   "metadata": {},
   "outputs": [],
   "source": [
    "nDofs = np.size(dofs)\n",
    "ex, ey = cfc.coordxtr(edof, coords, dofs)\n",
    "bc = np.array([],'i')\n",
    "bcVal = np.array([],'f')\n",
    "ex, ey = cfc.coordxtr(edof, coords, dofs)\n",
    "\n",
    "K = np.zeros((len(coords), len(coords)))\n",
    "\n",
    "for element in range(len(edof)):\n",
    "    ex_n = np.array(ex[element])\n",
    "    ey_n = np.array(ey[element])\n",
    "\n",
    "    Cmat = np.vstack((np.ones((3, )), ex_n, ey_n))\n",
    "    A = np.linalg.det(Cmat)/2\n",
    "    B = np.matrix([[ey_n[1] - ey_n[2], ey_n[2] - ey_n[0], ey_n[0] - ey_n[1]], \n",
    "                  [ex_n[2] - ex_n[1], ex_n[0] - ex_n[2], ex_n[1] - ex_n[0]]])\n",
    "                  \n",
    "    B_e = A*B\n",
    "    K_e = k * np.matmul(B_e.transpose(1, 0), B_e) * t * A\n",
    "    cfc.assem(edof, K, K_e)"
   ]
  },
  {
   "cell_type": "code",
   "execution_count": 60,
   "metadata": {},
   "outputs": [],
   "source": [
    "f = np.zeros([nDofs, 1])\n",
    "bc = np.array([],'i')\n",
    "bcVal = np.array([],'f')\n",
    "\n",
    "bc, bcVal = cfu.applybc(bdofs, bc, bcVal, ZERO_CONVECTION, 0.0, 0)\n",
    "bc, bcVal = cfu.applybc(bdofs, bc, bcVal, CONST_HEAT, 100, 0)\n",
    "\n",
    "a, r = cfc.solveq(K, f, bc, bcVal)\n",
    "\n",
    "cfv.figure()\n",
    "cfv.draw_nodal_values(a, coords, edof)\n",
    "cfv.show()\n"
   ]
  }
 ],
 "metadata": {
  "kernelspec": {
   "display_name": "Python 3",
   "language": "python",
   "name": "python3"
  },
  "language_info": {
   "codemirror_mode": {
    "name": "ipython",
    "version": 3
   },
   "file_extension": ".py",
   "mimetype": "text/x-python",
   "name": "python",
   "nbconvert_exporter": "python",
   "pygments_lexer": "ipython3",
   "version": "3.9.6"
  }
 },
 "nbformat": 4,
 "nbformat_minor": 2
}
